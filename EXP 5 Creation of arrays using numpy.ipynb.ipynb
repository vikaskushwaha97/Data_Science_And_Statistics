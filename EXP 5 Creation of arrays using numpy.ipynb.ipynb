{
 "cells": [
  {
   "cell_type": "code",
   "execution_count": 1,
   "id": "4257b636-3d59-458a-89ce-34e4b8894f43",
   "metadata": {},
   "outputs": [],
   "source": [
    "#EXP NO: 5\n"
   ]
  },
  {
   "cell_type": "code",
   "execution_count": 2,
   "id": "eb8e3269-25a3-442e-b24b-2c3938a78241",
   "metadata": {},
   "outputs": [],
   "source": [
    "#Aim: To create and manipulate arrays using NumPy for efficient numerical computations in Python.\n"
   ]
  },
  {
   "cell_type": "code",
   "execution_count": 3,
   "id": "b3e62073-0d65-483c-b260-16f965e9d1b5",
   "metadata": {},
   "outputs": [],
   "source": [
    "#Name: Vikas Kushwaha\n",
    "#Roll no: 34\n",
    "#sec: B\n",
    "#subject: EMERGING TECH. LAB - I"
   ]
  },
  {
   "cell_type": "code",
   "execution_count": 4,
   "id": "90837096-01a1-492b-bec4-ad1ce3456962",
   "metadata": {},
   "outputs": [],
   "source": [
    "import numpy as np\n"
   ]
  },
  {
   "cell_type": "code",
   "execution_count": 5,
   "id": "217658d2-49df-4d1a-8db2-ecbb9a6b62de",
   "metadata": {},
   "outputs": [
    {
     "name": "stdout",
     "output_type": "stream",
     "text": [
      "1D Array: [1 2 3 4 5]\n",
      "2D Array:\n",
      " [[1 2 3]\n",
      " [4 5 6]]\n",
      "3D Array:\n",
      " [[[1]\n",
      "  [2]]\n",
      "\n",
      " [[3]\n",
      "  [4]]]\n"
     ]
    }
   ],
   "source": [
    "# 1D Array\n",
    "arr1d = np.array([1, 2, 3, 4, 5])\n",
    "print(\"1D Array:\", arr1d)\n",
    "\n",
    "# 2D Array\n",
    "arr2d = np.array([[1, 2, 3], [4, 5, 6]])\n",
    "print(\"2D Array:\\n\", arr2d)\n",
    "\n",
    "# 3D Array\n",
    "arr3d = np.array([[[1], [2]], [[3], [4]]])\n",
    "print(\"3D Array:\\n\", arr3d)"
   ]
  },
  {
   "cell_type": "code",
   "execution_count": 6,
   "id": "8ae37660-f8a8-417e-b59b-25eae3429cfb",
   "metadata": {},
   "outputs": [
    {
     "name": "stdout",
     "output_type": "stream",
     "text": [
      "Zeros Array:\n",
      " [[0. 0. 0.]\n",
      " [0. 0. 0.]]\n",
      "Ones Array:\n",
      " [[1. 1. 1.]\n",
      " [1. 1. 1.]\n",
      " [1. 1. 1.]]\n",
      "Identity Matrix:\n",
      " [[1. 0. 0.]\n",
      " [0. 1. 0.]\n",
      " [0. 0. 1.]]\n",
      "Array with np.arange:\n",
      " [0 2 4 6 8]\n"
     ]
    }
   ],
   "source": [
    "# Array of zeros\n",
    "zeros_arr = np.zeros((2, 3))\n",
    "print(\"Zeros Array:\\n\", zeros_arr)\n",
    "\n",
    "# Array of ones\n",
    "ones_arr = np.ones((3, 3))\n",
    "print(\"Ones Array:\\n\", ones_arr)\n",
    "\n",
    "# Identity matrix\n",
    "identity_arr = np.eye(3)\n",
    "print(\"Identity Matrix:\\n\", identity_arr)\n",
    "\n",
    "# Range of numbers\n",
    "range_arr = np.arange(0, 10, 2)\n",
    "print(\"Array with np.arange:\\n\", range_arr)\n",
    "\n",
    "# Evenly spaced values\n",
    "linspace_arr = np.linspace(0, 1, 5)"
   ]
  },
  {
   "cell_type": "code",
   "execution_count": 7,
   "id": "df874f8b-fc7e-4145-ab94-eba653200713",
   "metadata": {},
   "outputs": [
    {
     "name": "stdout",
     "output_type": "stream",
     "text": [
      "Shape of arr2d: (2, 3)\n",
      "Size of arr2d: 6\n",
      "Data type of arr2d: int64\n"
     ]
    }
   ],
   "source": [
    "\n",
    "print(\"Shape of arr2d:\", arr2d.shape)\n",
    "print(\"Size of arr2d:\", arr2d.size)\n",
    "print(\"Data type of arr2d:\", arr2d.dtype)"
   ]
  },
  {
   "cell_type": "code",
   "execution_count": 8,
   "id": "54c19e47-6ed8-47e9-a766-1cac3b9b821c",
   "metadata": {},
   "outputs": [
    {
     "name": "stdout",
     "output_type": "stream",
     "text": [
      "Reshaped Array:\n",
      " [[1 2]\n",
      " [3 4]\n",
      " [5 6]]\n",
      "First row of arr2d: [1 2 3]\n",
      "Element at row 1, col 2: 6\n"
     ]
    }
   ],
   "source": [
    "reshaped = arr2d.reshape(3, 2)\n",
    "print(\"Reshaped Array:\\n\", reshaped)\n",
    "\n",
    "# Slicing\n",
    "print(\"First row of arr2d:\", arr2d[0])\n",
    "print(\"Element at row 1, col 2:\", arr2d[1, 2])"
   ]
  },
  {
   "cell_type": "code",
   "execution_count": 9,
   "id": "936f4923-96b0-4a52-b1ce-d614d7cde48d",
   "metadata": {},
   "outputs": [
    {
     "name": "stdout",
     "output_type": "stream",
     "text": [
      "Addition: [5 7 9]\n",
      "Multiplication: [ 4 10 18]\n",
      "Square root: [1.         1.41421356 1.73205081]\n"
     ]
    }
   ],
   "source": [
    "\n",
    "a = np.array([1, 2, 3])\n",
    "b = np.array([4, 5, 6])\n",
    "\n",
    "print(\"Addition:\", a + b)\n",
    "print(\"Multiplication:\", a * b)\n",
    "print(\"Square root:\", np.sqrt(a))"
   ]
  },
  {
   "cell_type": "code",
   "execution_count": null,
   "id": "c7efe9ec-5bcb-4d6b-9349-343d89601f98",
   "metadata": {},
   "outputs": [],
   "source": [
    "# Conclusion:\n",
    "#This practical covered the creation of 1D, 2D, and 3D arrays using NumPy, along with array operations like reshaping, slicing, and arithmetic."
   ]
  }
 ],
 "metadata": {
  "kernelspec": {
   "display_name": "Python 3 (ipykernel)",
   "language": "python",
   "name": "python3"
  },
  "language_info": {
   "codemirror_mode": {
    "name": "ipython",
    "version": 3
   },
   "file_extension": ".py",
   "mimetype": "text/x-python",
   "name": "python",
   "nbconvert_exporter": "python",
   "pygments_lexer": "ipython3",
   "version": "3.13.5"
  }
 },
 "nbformat": 4,
 "nbformat_minor": 5
}
