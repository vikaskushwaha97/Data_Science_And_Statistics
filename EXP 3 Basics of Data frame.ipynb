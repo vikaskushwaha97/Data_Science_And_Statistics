{
 "cells": [
  {
   "cell_type": "code",
   "execution_count": 1,
   "id": "28e88251-44b1-49d5-bff4-fc934ba01fc8",
   "metadata": {},
   "outputs": [],
   "source": [
    "# EXP NO: 3\n"
   ]
  },
  {
   "cell_type": "code",
   "execution_count": 2,
   "id": "bb50dfe0-fe45-4cc4-80a0-5f5051f7707f",
   "metadata": {},
   "outputs": [],
   "source": [
    "#Aim: To understand the structure and operations of DataFrames for efficient data manipulation using Pandas.\n"
   ]
  },
  {
   "cell_type": "code",
   "execution_count": 3,
   "id": "58fa8f56-472d-435e-9e59-636d76205774",
   "metadata": {},
   "outputs": [],
   "source": [
    "\n",
    "#Name: Vikas Kushwaha \n",
    "#Roll no: 34\n",
    "#sec: B\n",
    "#subject: EMERGING TECH. LAB - I"
   ]
  },
  {
   "cell_type": "code",
   "execution_count": 4,
   "id": "e1cb2b9e-4e92-4ee4-94ef-b163d402fe95",
   "metadata": {},
   "outputs": [],
   "source": [
    "import pandas as pd\n"
   ]
  },
  {
   "cell_type": "code",
   "execution_count": 5,
   "id": "8f4557e8-0e49-462f-9b5d-5d6370f38609",
   "metadata": {},
   "outputs": [
    {
     "name": "stdout",
     "output_type": "stream",
     "text": [
      "      Name  Age      City\n",
      "0    Alice   24  New York\n",
      "1      Bob   27     Paris\n",
      "2  Charlie   22    London\n",
      "3    David   32     Tokyo\n"
     ]
    }
   ],
   "source": [
    "# Creating a simple DataFrame using a dictionary\n",
    "data = {\n",
    "    'Name': ['Alice', 'Bob', 'Charlie', 'David'],\n",
    "    'Age': [24, 27, 22, 32],\n",
    "    'City': ['New York', 'Paris', 'London', 'Tokyo']\n",
    "}\n",
    "\n",
    "df = pd.DataFrame(data)\n",
    "print(df)"
   ]
  },
  {
   "cell_type": "code",
   "execution_count": 6,
   "id": "e4fb1a2d-7ba1-4bcd-8c39-4a6e89f0c019",
   "metadata": {},
   "outputs": [
    {
     "name": "stdout",
     "output_type": "stream",
     "text": [
      "Shape of DataFrame: (4, 3)\n"
     ]
    }
   ],
   "source": [
    "print(\"Shape of DataFrame:\", df.shape)\n"
   ]
  },
  {
   "cell_type": "code",
   "execution_count": 7,
   "id": "8822c9e1-69c8-4531-ba88-e607c5ccdcba",
   "metadata": {},
   "outputs": [
    {
     "name": "stdout",
     "output_type": "stream",
     "text": [
      "Data Types:\n",
      " Name    object\n",
      "Age      int64\n",
      "City    object\n",
      "dtype: object\n"
     ]
    }
   ],
   "source": [
    "print(\"Data Types:\\n\", df.dtypes)\n"
   ]
  },
  {
   "cell_type": "code",
   "execution_count": 8,
   "id": "7eae0f16-1704-49a3-9671-a16b30ad7b20",
   "metadata": {},
   "outputs": [
    {
     "name": "stdout",
     "output_type": "stream",
     "text": [
      "Columns: Index(['Name', 'Age', 'City'], dtype='object')\n"
     ]
    }
   ],
   "source": [
    "print(\"Columns:\", df.columns)\n"
   ]
  },
  {
   "cell_type": "code",
   "execution_count": 9,
   "id": "e80c9976-3d49-4f93-8ad4-a18df11fa54f",
   "metadata": {},
   "outputs": [
    {
     "name": "stdout",
     "output_type": "stream",
     "text": [
      "Index: RangeIndex(start=0, stop=4, step=1)\n"
     ]
    }
   ],
   "source": [
    "print(\"Index:\", df.index)\n"
   ]
  },
  {
   "cell_type": "code",
   "execution_count": 10,
   "id": "60271db7-dc9a-41a7-8c41-5553ca638091",
   "metadata": {},
   "outputs": [
    {
     "name": "stdout",
     "output_type": "stream",
     "text": [
      "Name column:\n",
      " 0      Alice\n",
      "1        Bob\n",
      "2    Charlie\n",
      "3      David\n",
      "Name: Name, dtype: object\n"
     ]
    }
   ],
   "source": [
    "print(\"Name column:\\n\", df['Name'])\n"
   ]
  },
  {
   "cell_type": "code",
   "execution_count": 11,
   "id": "8878cd41-e2ef-4354-8598-85d636a247dd",
   "metadata": {},
   "outputs": [
    {
     "name": "stdout",
     "output_type": "stream",
     "text": [
      "Row at index 1:\n",
      " Name      Bob\n",
      "Age        27\n",
      "City    Paris\n",
      "Name: 1, dtype: object\n"
     ]
    }
   ],
   "source": [
    "print(\"Row at index 1:\\n\", df.loc[1])\n"
   ]
  },
  {
   "cell_type": "code",
   "execution_count": 12,
   "id": "5699e094-17df-4437-9ff2-9cc563cb0d51",
   "metadata": {},
   "outputs": [
    {
     "name": "stdout",
     "output_type": "stream",
     "text": [
      "First two rows:\n",
      "     Name  Age      City\n",
      "0  Alice   24  New York\n",
      "1    Bob   27     Paris\n"
     ]
    }
   ],
   "source": [
    "print(\"First two rows:\\n\", df.iloc[:2])\n"
   ]
  },
  {
   "cell_type": "code",
   "execution_count": 13,
   "id": "d74feab9-40ab-45ce-b745-8c5d70d2e898",
   "metadata": {},
   "outputs": [],
   "source": [
    "\n",
    "# Add a new column\n",
    "df['Score'] = [85, 90, 88, 92]"
   ]
  },
  {
   "cell_type": "code",
   "execution_count": 14,
   "id": "54aaa111-db2d-4018-b1e9-0b86ce705cc7",
   "metadata": {},
   "outputs": [
    {
     "name": "stdout",
     "output_type": "stream",
     "text": [
      "      Name  Age      City  Score\n",
      "0    Alice   25  New York     85\n",
      "1      Bob   27     Paris     90\n",
      "2  Charlie   22    London     88\n",
      "3    David   32     Tokyo     92\n"
     ]
    }
   ],
   "source": [
    "df.at[0, 'Age'] = 25\n",
    "\n",
    "print(df)"
   ]
  },
  {
   "cell_type": "code",
   "execution_count": 15,
   "id": "aec69519-255c-4334-940a-c2ac35f2e6f8",
   "metadata": {},
   "outputs": [
    {
     "name": "stdout",
     "output_type": "stream",
     "text": [
      "Summary Statistics:\n",
      "              Age      Score\n",
      "count   4.000000   4.000000\n",
      "mean   26.500000  88.750000\n",
      "std     4.203173   2.986079\n",
      "min    22.000000  85.000000\n",
      "25%    24.250000  87.250000\n",
      "50%    26.000000  89.000000\n",
      "75%    28.250000  90.500000\n",
      "max    32.000000  92.000000\n"
     ]
    }
   ],
   "source": [
    "print(\"Summary Statistics:\\n\", df.describe())\n"
   ]
  },
  {
   "cell_type": "code",
   "execution_count": 16,
   "id": "b693d2e9-ff24-4a2f-9119-6e131810782d",
   "metadata": {},
   "outputs": [
    {
     "name": "stdout",
     "output_type": "stream",
     "text": [
      "Sorted by Age:\n",
      "       Name  Age      City  Score\n",
      "2  Charlie   22    London     88\n",
      "0    Alice   25  New York     85\n",
      "1      Bob   27     Paris     90\n",
      "3    David   32     Tokyo     92\n"
     ]
    }
   ],
   "source": [
    "# Sort by Age\n",
    "sorted_df = df.sort_values(by='Age')\n",
    "print(\"Sorted by Age:\\n\", sorted_df)"
   ]
  },
  {
   "cell_type": "code",
   "execution_count": 17,
   "id": "52815f6d-0a00-4727-b821-e49fdb7ff5a6",
   "metadata": {},
   "outputs": [
    {
     "name": "stdout",
     "output_type": "stream",
     "text": [
      "Score > 88:\n",
      "     Name  Age   City  Score\n",
      "1    Bob   27  Paris     90\n",
      "3  David   32  Tokyo     92\n"
     ]
    }
   ],
   "source": [
    "# Filter rows where Score > 88\n",
    "filtered_df = df[df['Score'] > 88]\n",
    "print(\"Score > 88:\\n\", filtered_df)"
   ]
  },
  {
   "cell_type": "code",
   "execution_count": 19,
   "id": "3ba76da3-86a8-4342-b3c2-0ef94196804a",
   "metadata": {},
   "outputs": [],
   "source": [
    "#Conclusion:\n",
    "#This practical provided hands-on experience with creating and manipulating Pandas DataFrames. Key operations such as accessing data, modifying values, filtering, and summarizing were practiced to build a strong foundation in data handling and analysis using Python."
   ]
  },
  {
   "cell_type": "code",
   "execution_count": null,
   "id": "7f121287-9bbb-41d3-adc0-16db115a258d",
   "metadata": {},
   "outputs": [],
   "source": []
  }
 ],
 "metadata": {
  "kernelspec": {
   "display_name": "Python 3 (ipykernel)",
   "language": "python",
   "name": "python3"
  },
  "language_info": {
   "codemirror_mode": {
    "name": "ipython",
    "version": 3
   },
   "file_extension": ".py",
   "mimetype": "text/x-python",
   "name": "python",
   "nbconvert_exporter": "python",
   "pygments_lexer": "ipython3",
   "version": "3.13.5"
  }
 },
 "nbformat": 4,
 "nbformat_minor": 5
}
